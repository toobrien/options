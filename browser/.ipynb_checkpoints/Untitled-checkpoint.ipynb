{
 "cells": [
  {
   "cell_type": "code",
   "execution_count": null,
   "metadata": {},
   "outputs": [],
   "source": [
    "from datetime import datetime\n",
    "import requests\n",
    "\n",
    "key = \"b66c53cb92msh8f6162c85979f48p1e2cf1jsn4dbd05f0b387\"\n",
    "url = \"https://apidojo-yahoo-finance-v1.p.rapidapi.com/market/get-earnings\"\n",
    "\n",
    "start = datetime.now()\n",
    "end = start + datetime.timedelta(days=30)\n",
    "\n",
    "querystring = {\"region\":\"US\",\"startDate\":\"1585155600000\",\"endDate\":\"1589475600000\",\"size\":\"10\"}\n",
    "\n",
    "headers = {\n",
    "    'x-rapidapi-key': \"4aea73f095msh93483b7dead7403p1f42efjsn70483013586b\",\n",
    "    'x-rapidapi-host': \"apidojo-yahoo-finance-v1.p.rapidapi.com\"\n",
    "    }\n",
    "\n",
    "response = requests.request(\"GET\", url, headers=headers, params=querystring)\n",
    "\n",
    "print(response.text)"
   ]
  }
 ],
 "metadata": {
  "kernelspec": {
   "display_name": "Python 3",
   "language": "python",
   "name": "python3"
  },
  "language_info": {
   "codemirror_mode": {
    "name": "ipython",
    "version": 3
   },
   "file_extension": ".py",
   "mimetype": "text/x-python",
   "name": "python",
   "nbconvert_exporter": "python",
   "pygments_lexer": "ipython3",
   "version": "3.9.0"
  }
 },
 "nbformat": 4,
 "nbformat_minor": 4
}
